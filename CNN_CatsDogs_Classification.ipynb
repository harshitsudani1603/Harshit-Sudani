{
  "nbformat": 4,
  "nbformat_minor": 0,
  "metadata": {
    "colab": {
      "name": " CNN_CatsDogs_Classification.ipynb",
      "provenance": [],
      "collapsed_sections": []
    },
    "kernelspec": {
      "name": "python3",
      "display_name": "Python 3"
    },
    "accelerator": "GPU"
  },
  "cells": [
    {
      "cell_type": "code",
      "metadata": {
        "id": "tyUjJBcQlpXB",
        "colab_type": "code",
        "colab": {
          "base_uri": "https://localhost:8080/",
          "height": 122
        },
        "outputId": "4b32de21-9422-41b9-e3f4-c5807faa784d"
      },
      "source": [
        "#get acess google drive data into google colab\n",
        "\n",
        "from google.colab import drive\n",
        "drive.mount('/content/drive')"
      ],
      "execution_count": null,
      "outputs": [
        {
          "output_type": "stream",
          "text": [
            "Go to this URL in a browser: https://accounts.google.com/o/oauth2/auth?client_id=947318989803-6bn6qk8qdgf4n4g3pfee6491hc0brc4i.apps.googleusercontent.com&redirect_uri=urn%3aietf%3awg%3aoauth%3a2.0%3aoob&scope=email%20https%3a%2f%2fwww.googleapis.com%2fauth%2fdocs.test%20https%3a%2f%2fwww.googleapis.com%2fauth%2fdrive%20https%3a%2f%2fwww.googleapis.com%2fauth%2fdrive.photos.readonly%20https%3a%2f%2fwww.googleapis.com%2fauth%2fpeopleapi.readonly&response_type=code\n",
            "\n",
            "Enter your authorization code:\n",
            "··········\n",
            "Mounted at /content/drive\n"
          ],
          "name": "stdout"
        }
      ]
    },
    {
      "cell_type": "code",
      "metadata": {
        "id": "cyAJpSLXoLDJ",
        "colab_type": "code",
        "colab": {
          "base_uri": "https://localhost:8080/",
          "height": 34
        },
        "outputId": "98edae0d-6bde-4f45-d884-35cbb097380f"
      },
      "source": [
        "from zipfile import ZipFile\n",
        "file_name = \"/content/drive/My Drive/dataset.zip\"\n",
        "with ZipFile(file_name,'r') as zip:\n",
        "  zip.extractall()\n",
        "  print('finish')"
      ],
      "execution_count": null,
      "outputs": [
        {
          "output_type": "stream",
          "text": [
            "finish\n"
          ],
          "name": "stdout"
        }
      ]
    },
    {
      "cell_type": "code",
      "metadata": {
        "id": "0013vj7Eo_Qh",
        "colab_type": "code",
        "colab": {}
      },
      "source": [
        "!pip install -q keras"
      ],
      "execution_count": null,
      "outputs": []
    },
    {
      "cell_type": "code",
      "metadata": {
        "id": "W7msTcrh32i0",
        "colab_type": "code",
        "colab": {}
      },
      "source": [
        "!pip install -q tensorflow"
      ],
      "execution_count": null,
      "outputs": []
    },
    {
      "cell_type": "code",
      "metadata": {
        "id": "SQmd9c1npKFF",
        "colab_type": "code",
        "colab": {}
      },
      "source": [
        "# Importing the Keras libraries and packages\n",
        "from tensorflow.keras.models import Sequential\n",
        "from tensorflow.keras.layers import Conv2D,MaxPooling2D,Flatten,Dense\n",
        "# from keras.layers import MaxPooling2D\n",
        "# from keras.layers import Flatten\n",
        "# from keras.layers import Dense\n",
        "\n",
        "# Initialising the CNN\n",
        "\n",
        "CNN_Classifier=Sequential();\n",
        "\n",
        "# Step 1 - Convolution\n",
        "CNN_Classifier.add(Conv2D(32,(3,3),input_shape=(64,64,3),activation='relu'))\n",
        "\n",
        "# Step 2 - Pooling\n",
        "CNN_Classifier.add(MaxPooling2D(pool_size=(2,2)))\n",
        "\n",
        "# Step 1 - Convolution\n",
        "CNN_Classifier.add(Conv2D(16,(3,3),activation='relu'))\n",
        "\n",
        "# Step 2 - Pooling\n",
        "CNN_Classifier.add(MaxPooling2D(pool_size=(2,2)))\n",
        "\n",
        "\n",
        "# Step 3 - Flattening\n",
        "CNN_Classifier.add(Flatten())\n",
        "\n",
        "\n",
        "# Step 4 - Full connection\n",
        "\n",
        "CNN_Classifier.add(Dense(units=128, activation='relu'))\n",
        "CNN_Classifier.add(Dense(units=1, activation='sigmoid'))\n",
        "\n",
        "# Compiling the CNN\n",
        "CNN_Classifier.compile(optimizer ='adam',loss='binary_crossentropy',metrics=['accuracy'])\n"
      ],
      "execution_count": null,
      "outputs": []
    },
    {
      "cell_type": "code",
      "metadata": {
        "id": "DOPgO_BVsa_d",
        "colab_type": "code",
        "colab": {
          "base_uri": "https://localhost:8080/",
          "height": 819
        },
        "outputId": "40c9e0d5-9e04-4677-e805-8a6872ab748f"
      },
      "source": [
        "from tensorflow.keras.preprocessing.image import ImageDataGenerator\n",
        "\n",
        "train_datagen = ImageDataGenerator(rescale = 1./255,\n",
        "                                   shear_range = 0.2,\n",
        "                                   zoom_range = 0.2,\n",
        "                                   horizontal_flip = True)\n",
        "\n",
        "test_datagen = ImageDataGenerator(rescale = 1./255)\n",
        "\n",
        "training_set = train_datagen.flow_from_directory('/content/dataset/training_set',\n",
        "                                                 target_size = (64, 64),\n",
        "                                                 batch_size = 16,\n",
        "                                                 class_mode = 'binary')\n",
        "\n",
        "test_set = test_datagen.flow_from_directory('/content/dataset/test_set',\n",
        "                                            target_size = (64, 64),\n",
        "                                            batch_size = 16,\n",
        "                                            class_mode = 'binary')\n",
        "\n",
        "CNN_Classifier.fit_generator(training_set,\n",
        "                         steps_per_epoch = 500,\n",
        "                         epochs = 20,\n",
        "                         validation_data = test_set,\n",
        "                         validation_steps = 124)"
      ],
      "execution_count": null,
      "outputs": [
        {
          "output_type": "stream",
          "text": [
            "Found 8000 images belonging to 2 classes.\n",
            "Found 2000 images belonging to 2 classes.\n",
            "WARNING:tensorflow:From <ipython-input-14-28a994f44951>:24: Model.fit_generator (from tensorflow.python.keras.engine.training) is deprecated and will be removed in a future version.\n",
            "Instructions for updating:\n",
            "Please use Model.fit, which supports generators.\n",
            "Epoch 1/20\n",
            "500/500 [==============================] - 40s 79ms/step - loss: 0.6836 - accuracy: 0.5612 - val_loss: 0.6540 - val_accuracy: 0.6048\n",
            "Epoch 2/20\n",
            "500/500 [==============================] - 39s 78ms/step - loss: 0.6409 - accuracy: 0.6399 - val_loss: 0.5949 - val_accuracy: 0.6941\n",
            "Epoch 3/20\n",
            "500/500 [==============================] - 39s 78ms/step - loss: 0.5740 - accuracy: 0.6979 - val_loss: 0.5469 - val_accuracy: 0.7263\n",
            "Epoch 4/20\n",
            "500/500 [==============================] - 39s 78ms/step - loss: 0.5496 - accuracy: 0.7171 - val_loss: 0.5239 - val_accuracy: 0.7460\n",
            "Epoch 5/20\n",
            "500/500 [==============================] - 39s 78ms/step - loss: 0.5277 - accuracy: 0.7322 - val_loss: 0.5262 - val_accuracy: 0.7445\n",
            "Epoch 6/20\n",
            "500/500 [==============================] - 39s 79ms/step - loss: 0.4940 - accuracy: 0.7533 - val_loss: 0.4919 - val_accuracy: 0.7752\n",
            "Epoch 7/20\n",
            "500/500 [==============================] - 39s 79ms/step - loss: 0.4799 - accuracy: 0.7699 - val_loss: 0.4899 - val_accuracy: 0.7742\n",
            "Epoch 8/20\n",
            "500/500 [==============================] - 39s 78ms/step - loss: 0.4648 - accuracy: 0.7785 - val_loss: 0.4738 - val_accuracy: 0.7787\n",
            "Epoch 9/20\n",
            "500/500 [==============================] - 39s 78ms/step - loss: 0.4519 - accuracy: 0.7881 - val_loss: 0.4819 - val_accuracy: 0.7737\n",
            "Epoch 10/20\n",
            "500/500 [==============================] - 39s 79ms/step - loss: 0.4384 - accuracy: 0.7894 - val_loss: 0.4743 - val_accuracy: 0.7828\n",
            "Epoch 11/20\n",
            "500/500 [==============================] - 40s 79ms/step - loss: 0.4180 - accuracy: 0.8010 - val_loss: 0.4801 - val_accuracy: 0.7828\n",
            "Epoch 12/20\n",
            "500/500 [==============================] - 40s 79ms/step - loss: 0.4088 - accuracy: 0.8150 - val_loss: 0.5454 - val_accuracy: 0.7298\n",
            "Epoch 13/20\n",
            "500/500 [==============================] - 40s 79ms/step - loss: 0.3967 - accuracy: 0.8181 - val_loss: 0.4618 - val_accuracy: 0.7979\n",
            "Epoch 14/20\n",
            "500/500 [==============================] - 39s 79ms/step - loss: 0.3840 - accuracy: 0.8266 - val_loss: 0.4747 - val_accuracy: 0.7908\n",
            "Epoch 15/20\n",
            "500/500 [==============================] - 39s 79ms/step - loss: 0.3627 - accuracy: 0.8372 - val_loss: 0.4603 - val_accuracy: 0.7954\n",
            "Epoch 16/20\n",
            "500/500 [==============================] - 39s 79ms/step - loss: 0.3462 - accuracy: 0.8471 - val_loss: 0.4562 - val_accuracy: 0.8044\n",
            "Epoch 17/20\n",
            "500/500 [==============================] - 40s 79ms/step - loss: 0.3360 - accuracy: 0.8490 - val_loss: 0.4797 - val_accuracy: 0.8014\n",
            "Epoch 18/20\n",
            "500/500 [==============================] - 40s 79ms/step - loss: 0.3245 - accuracy: 0.8545 - val_loss: 0.4973 - val_accuracy: 0.7868\n",
            "Epoch 19/20\n",
            "500/500 [==============================] - 40s 79ms/step - loss: 0.3123 - accuracy: 0.8634 - val_loss: 0.4801 - val_accuracy: 0.8014\n",
            "Epoch 20/20\n",
            "500/500 [==============================] - 40s 79ms/step - loss: 0.3089 - accuracy: 0.8689 - val_loss: 0.5329 - val_accuracy: 0.8019\n"
          ],
          "name": "stdout"
        },
        {
          "output_type": "execute_result",
          "data": {
            "text/plain": [
              "<tensorflow.python.keras.callbacks.History at 0x7fb9c0136c88>"
            ]
          },
          "metadata": {
            "tags": []
          },
          "execution_count": 14
        }
      ]
    },
    {
      "cell_type": "code",
      "metadata": {
        "id": "2420XXMnNE1S",
        "colab_type": "code",
        "colab": {
          "base_uri": "https://localhost:8080/",
          "height": 34
        },
        "outputId": "eef0120b-614c-4fa7-ae85-b0a3c02f7676"
      },
      "source": [
        "import numpy as np\n",
        "import keras\n",
        "from keras.preprocessing import image\n",
        "test_image=image.load_img('/content/dataset/test_set/cats/cat.4016.jpg',target_size=(64,64))\n",
        "test_image=image.img_to_array(test_image)\n",
        "test_image=np.expand_dims(test_image,axis=0)\n",
        "result=CNN_Classifier.predict(test_image)\n",
        "training_set.class_indices\n",
        "if result[0][0]==1:\n",
        "    prediction='dog'\n",
        "    print(prediction)\n",
        "else:\n",
        "    prediction='cat'\n",
        "    print(prediction)"
      ],
      "execution_count": null,
      "outputs": [
        {
          "output_type": "stream",
          "text": [
            "cat\n"
          ],
          "name": "stdout"
        }
      ]
    },
    {
      "cell_type": "code",
      "metadata": {
        "id": "xpJrtVL9Safa",
        "colab_type": "code",
        "colab": {}
      },
      "source": [
        "from tensorflow.keras.models import load_model\n",
        "CNN_Classifier.save('cat_dog.h5')"
      ],
      "execution_count": null,
      "outputs": []
    },
    {
      "cell_type": "code",
      "metadata": {
        "id": "T9liZ9UwoD13",
        "colab_type": "code",
        "colab": {}
      },
      "source": [
        ""
      ],
      "execution_count": null,
      "outputs": []
    }
  ]
}